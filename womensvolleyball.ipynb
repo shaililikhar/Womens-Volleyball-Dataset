{
  "metadata": {
    "kernelspec": {
      "name": "python",
      "display_name": "Python (Pyodide)",
      "language": "python"
    },
    "language_info": {
      "codemirror_mode": {
        "name": "python",
        "version": 3
      },
      "file_extension": ".py",
      "mimetype": "text/x-python",
      "name": "python",
      "nbconvert_exporter": "python",
      "pygments_lexer": "ipython3",
      "version": "3.8"
    }
  },
  "nbformat_minor": 4,
  "nbformat": 4,
  "cells": [
    {
      "cell_type": "code",
      "source": "import pandas as pd\nfrom collections import defaultdict\n\ndf = pd.read_csv('womensvb.csv')\ndf['position_number'] = df['position_number'].astype(str)\n\n#Task 1: change Date of Birth from Day-Month-Year to Month-Day-Year\ndf['date_of_birth'] = pd.to_datetime(df['date_of_birth'], format='%d/%m/%Y').dt.strftime('%m/%d/%Y')\n\n#Task 2: change height value from centimeters to feet and inches\ndef convert_height(height):\n    total_inches = height / 2.54\n    feet = int(total_inches // 12)\n    inches = round(total_inches % 12)\n    if inches == 12:\n        feet += 1\n        inches = 0\n    return f\"{feet}' {inches}\\\"\"\n\ndf['height'] = df['height'].apply(convert_height)\n     \n#Task 3: change weight from kilograms to pounds \ndef convert_weight(weight):\n    pounds = weight * 2.20462\n    return f\"{round(pounds)} lbs\"\ndf['weight'] = df['weight'].apply(convert_weight) \n\n#Task 4: change column name and values to positions\ndef map_position_number_to_name(position_number):\n    if position_number == '1':\n        return 'setter'\n    elif position_number in ('2', '5'):\n        return 'OH'  \n    elif position_number in ('3', '6'):\n        return 'MB' \n    elif position_number == '4':\n        return 'O'\n    else:\n        return position_number \n\ndf.rename(columns={'position_number': 'position_name'}, inplace=True)\ndf['position_name'] = df['position_name'].apply(map_position_number_to_name)\n\ndf.to_csv('updatedwomensvb.csv', index=False)",
      "metadata": {
        "trusted": true
      },
      "outputs": [],
      "execution_count": 7
    },
    {
      "cell_type": "code",
      "source": "",
      "metadata": {
        "trusted": true
      },
      "outputs": [],
      "execution_count": null
    },
    {
      "cell_type": "code",
      "source": "",
      "metadata": {
        "trusted": true
      },
      "outputs": [],
      "execution_count": null
    }
  ]
}